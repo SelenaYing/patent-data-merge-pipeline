{
 "cells": [
  {
   "cell_type": "code",
   "execution_count": 5,
   "id": "afd793fc",
   "metadata": {},
   "outputs": [],
   "source": [
    "import pandas as pd\n",
    "\n",
    "# Input and output file paths\n",
    "input_file = '/Users/selenaying/g_location_not_disambiguated.tsv'\n",
    "output_file = '/Users/selenaying/g_location_clean_deduplicated.tsv'\n",
    "\n",
    "# Set to keep track of unique (raw_city, location_id) pairs\n",
    "seen_pairs = set()\n",
    "\n",
    "# Flag to control writing header only once\n",
    "header_written = False\n",
    "\n",
    "# Open output file in write mode\n",
    "with open(output_file, 'w', encoding='utf-8') as out_file:\n",
    "    # Read the input file in chunks\n",
    "    for chunk in pd.read_csv(input_file, sep='\\t', chunksize=500000, dtype=str):\n",
    "        # Drop duplicates within this chunk\n",
    "        chunk = chunk.drop_duplicates(subset=['raw_city', 'location_id'])\n",
    "\n",
    "        # Filter out rows already seen\n",
    "        is_new = chunk.apply(\n",
    "            lambda row: (row['raw_city'], row['location_id']) not in seen_pairs, axis=1\n",
    "        )\n",
    "        new_rows = chunk[is_new]\n",
    "\n",
    "        # Update seen set\n",
    "        seen_pairs.update((row['raw_city'], row['location_id']) for _, row in new_rows.iterrows())\n",
    "\n",
    "        # Write to file\n",
    "        new_rows.to_csv(out_file, sep='\\t', index=False, header=not header_written, mode='a')\n",
    "        header_written = True\n"
   ]
  }
 ],
 "metadata": {
  "kernelspec": {
   "display_name": "3.11.9",
   "language": "python",
   "name": "python3"
  },
  "language_info": {
   "codemirror_mode": {
    "name": "ipython",
    "version": 3
   },
   "file_extension": ".py",
   "mimetype": "text/x-python",
   "name": "python",
   "nbconvert_exporter": "python",
   "pygments_lexer": "ipython3",
   "version": "3.11.9"
  }
 },
 "nbformat": 4,
 "nbformat_minor": 5
}
